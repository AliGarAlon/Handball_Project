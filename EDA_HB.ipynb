{
  "nbformat": 4,
  "nbformat_minor": 0,
  "metadata": {
    "colab": {
      "provenance": []
    },
    "kernelspec": {
      "name": "python3",
      "display_name": "Python 3"
    },
    "language_info": {
      "name": "python"
    }
  },
  "cells": [
    {
      "cell_type": "code",
      "source": [
        "!pip install opencv-python-headless\n",
        "#!pip install -U \"tensorflow>=2.10.0\"\n",
        "!pip install remotezip tqdm opencv-python\n",
        "!pip install -q git+https://github.com/tensorflow/docs"
      ],
      "metadata": {
        "colab": {
          "base_uri": "https://localhost:8080/"
        },
        "id": "8GmQDIOzNMIU",
        "outputId": "2a747fc1-56c1-46ba-cef5-2bca0456ad4b"
      },
      "execution_count": null,
      "outputs": [
        {
          "output_type": "stream",
          "name": "stdout",
          "text": [
            "Requirement already satisfied: opencv-python-headless in /usr/local/lib/python3.10/dist-packages (4.9.0.80)\n",
            "Requirement already satisfied: numpy>=1.21.2 in /usr/local/lib/python3.10/dist-packages (from opencv-python-headless) (1.25.2)\n",
            "Collecting remotezip\n",
            "  Downloading remotezip-0.12.3-py3-none-any.whl (8.1 kB)\n",
            "Requirement already satisfied: tqdm in /usr/local/lib/python3.10/dist-packages (4.66.2)\n",
            "Requirement already satisfied: opencv-python in /usr/local/lib/python3.10/dist-packages (4.8.0.76)\n",
            "Requirement already satisfied: requests in /usr/local/lib/python3.10/dist-packages (from remotezip) (2.31.0)\n",
            "Requirement already satisfied: numpy>=1.21.2 in /usr/local/lib/python3.10/dist-packages (from opencv-python) (1.25.2)\n",
            "Requirement already satisfied: charset-normalizer<4,>=2 in /usr/local/lib/python3.10/dist-packages (from requests->remotezip) (3.3.2)\n",
            "Requirement already satisfied: idna<4,>=2.5 in /usr/local/lib/python3.10/dist-packages (from requests->remotezip) (3.6)\n",
            "Requirement already satisfied: urllib3<3,>=1.21.1 in /usr/local/lib/python3.10/dist-packages (from requests->remotezip) (2.0.7)\n",
            "Requirement already satisfied: certifi>=2017.4.17 in /usr/local/lib/python3.10/dist-packages (from requests->remotezip) (2024.2.2)\n",
            "Installing collected packages: remotezip\n",
            "Successfully installed remotezip-0.12.3\n",
            "  Preparing metadata (setup.py) ... \u001b[?25l\u001b[?25hdone\n",
            "  Building wheel for tensorflow-docs (setup.py) ... \u001b[?25l\u001b[?25hdone\n"
          ]
        }
      ]
    },
    {
      "cell_type": "code",
      "source": [
        "import cv2\n",
        "import os\n",
        "import pandas as pd\n",
        "\n",
        "import tqdm\n",
        "import random\n",
        "import pathlib\n",
        "import itertools\n",
        "import collections\n",
        "\n",
        "import os\n",
        "import cv2\n",
        "import numpy as np\n",
        "import remotezip as rz\n",
        "import random\n",
        "import shutil\n",
        "import glob\n",
        "\n",
        "import tensorflow as tf\n",
        "\n",
        "# Some modules to display an animation using imageio.\n",
        "import imageio\n",
        "from IPython import display\n",
        "from urllib import request\n",
        "from tensorflow_docs.vis import embed\n",
        "from tensorflow import keras\n",
        "from imutils import paths\n",
        "import matplotlib.pyplot as plt\n",
        "import seaborn as sns\n",
        "from tensorflow.keras.utils import plot_model\n",
        "from IPython.display import Image\n",
        "import imgaug.augmenters as iaa"
      ],
      "metadata": {
        "id": "JRzDpd-ONUcj"
      },
      "execution_count": null,
      "outputs": []
    },
    {
      "cell_type": "code",
      "execution_count": null,
      "metadata": {
        "colab": {
          "base_uri": "https://localhost:8080/"
        },
        "id": "5Kf8n7GNMnWp",
        "outputId": "8a4098cd-66c4-45c4-c021-59518ff054c1"
      },
      "outputs": [
        {
          "output_type": "stream",
          "name": "stdout",
          "text": [
            "Mounted at /content/drive\n"
          ]
        }
      ],
      "source": [
        "#Mount Google Drive.\n",
        "from google.colab import drive\n",
        "drive.mount(\"/content/drive\")\n",
        "#/content/drive/MyDrive/csvs/"
      ]
    },
    {
      "cell_type": "markdown",
      "source": [
        "# Preparing the dataset:\n",
        "Source of the dataset: https://ieee-dataport.org/open-access/handball-action-dataset-uniri-hbd\n",
        "\n",
        "The dataset consists of 751 videos, each containing the performance one of the handball actions out of 7 categories (passing, shooting, jump-shot, dribbling, running, crossing, defence). The videos were manually extracted from longer videos recorded in handball practice sessions. They were recorded in at least full HD (1920 × 1080) resolution at 30 or more frames per second, and mostly one or two players perform the action of interest.<br>\n",
        "The directory actions/ contains **the videos of performances of actions by single players isolated from original whole scenes** (found in the scenes/ directory). The files are arranged in subdirectories according to the performed action class. Files are named so that the beginning of the name matches the original video from which the action is extracted.\n",
        "Hence, the dataset is already cleaned. Only minor details remain to be reviewed:\n",
        "- imbalance of data.\n",
        "- reorganisation in a suitable file structure."
      ],
      "metadata": {
        "id": "EVRyP-aG_kaT"
      }
    },
    {
      "cell_type": "markdown",
      "source": [
        "## Dealing with imbalance data:"
      ],
      "metadata": {
        "id": "mX4Hy1ZfGJ_e"
      }
    },
    {
      "cell_type": "code",
      "source": [
        "dataset_path = os.listdir('/content/drive/My Drive/csvs/handball_s/actions')\n",
        "\n",
        "label_types = os.listdir('/content/drive/My Drive/csvs/handball_s/actions')\n",
        "print(label_types)"
      ],
      "metadata": {
        "colab": {
          "base_uri": "https://localhost:8080/"
        },
        "id": "BcUrqSTG6yo2",
        "outputId": "eac1b217-0bad-45d6-fd7f-289e1341b4e7"
      },
      "execution_count": null,
      "outputs": [
        {
          "output_type": "stream",
          "name": "stdout",
          "text": [
            "['crossing', 'passing', 'jump-shot', 'dribbling', 'defence', 'running', 'shot']\n"
          ]
        }
      ]
    },
    {
      "cell_type": "code",
      "source": [
        "# Define the directory path\n",
        "directory = \"/content/drive/My Drive/csvs/handball_s/actions\"\n",
        "\n",
        "# Initialize an empty dictionary to store the count of videos for each action\n",
        "video_counts = {}\n",
        "\n",
        "# Iterate through each folder in the directory\n",
        "for action_folder in os.listdir(directory):\n",
        "    # Construct the full path to the action folder\n",
        "    action_folder_path = os.path.join(directory, action_folder)\n",
        "    # Check if the path is a directory\n",
        "    if os.path.isdir(action_folder_path):\n",
        "        # Count the number of files with a \".avi\" extension in the folder\n",
        "        num_videos = len([file for file in os.listdir(action_folder_path) if file.endswith(\".avi\")])\n",
        "        # Store the count in the dictionary with the action name as the key\n",
        "        video_counts[action_folder] = num_videos\n",
        "\n",
        "# Print the counts\n",
        "for action, count in video_counts.items():\n",
        "    print(f\"Action: {action}, Number of Videos: {count}\")\n"
      ],
      "metadata": {
        "colab": {
          "base_uri": "https://localhost:8080/"
        },
        "id": "crMYYUa1GPy-",
        "outputId": "78d3dffb-5061-49f1-b7ab-95ff5391c5eb"
      },
      "execution_count": null,
      "outputs": [
        {
          "output_type": "stream",
          "name": "stdout",
          "text": [
            "Action: crossing, Number of Videos: 250\n",
            "Action: passing, Number of Videos: 141\n",
            "Action: jump-shot, Number of Videos: 248\n",
            "Action: dribbling, Number of Videos: 26\n",
            "Action: defence, Number of Videos: 35\n",
            "Action: running, Number of Videos: 13\n",
            "Action: shot, Number of Videos: 96\n"
          ]
        }
      ]
    },
    {
      "cell_type": "markdown",
      "source": [
        "### Deleting not used categories:\n",
        "In order to preserve a copy of the original data, the dataset will be copied to a directory called \"cleaned_actions\". All of the following preprocessing steps will be conducted to this dataset."
      ],
      "metadata": {
        "id": "Oht8zA_xISEB"
      }
    },
    {
      "cell_type": "code",
      "source": [
        "# Define the source and destination paths\n",
        "source_directory = \"/content/drive/My Drive/csvs/handball_s/actions\"\n",
        "destination_directory = \"/content/drive/My Drive/csvs/handball_test/cleaned_actions\"\n",
        "\n",
        "# Copy the entire directory to the destination\n",
        "shutil.copytree(source_directory, destination_directory)\n",
        "\n",
        "# Define the folders to delete\n",
        "folders_to_delete = ['running', 'dribbling']\n",
        "\n",
        "# Iterate through each folder to delete\n",
        "for folder in folders_to_delete:\n",
        "    folder_path = os.path.join(destination_directory, folder)\n",
        "    # Check if the folder exists before trying to delete\n",
        "    if os.path.exists(folder_path):\n",
        "        # Delete the folder and its contents\n",
        "        shutil.rmtree(folder_path)\n",
        "        print(f\"Deleted folder: {folder}\")\n",
        "\n",
        "print(\"Copy and deletion completed successfully.\")\n"
      ],
      "metadata": {
        "colab": {
          "base_uri": "https://localhost:8080/"
        },
        "id": "_gUNONMHJOD5",
        "outputId": "65699716-75e5-454e-9ef7-e6e58cab1d39"
      },
      "execution_count": null,
      "outputs": [
        {
          "output_type": "stream",
          "name": "stdout",
          "text": [
            "Deleted folder: running\n",
            "Deleted folder: dribbling\n",
            "Copy and deletion completed successfully.\n"
          ]
        }
      ]
    },
    {
      "cell_type": "markdown",
      "source": [
        "### Augmentating data for oversampling"
      ],
      "metadata": {
        "id": "kc9LfP8ILCvo"
      }
    },
    {
      "cell_type": "code",
      "source": [
        "def augment_videos(input_directory, output_directory, desired_num_videos):\n",
        "    \"\"\"\n",
        "    Augments videos from the input directory and saves the augmented videos to the output directory.\n",
        "\n",
        "    Args:\n",
        "    - input_directory (str): Path to the directory containing the input videos.\n",
        "    - output_directory (str): Path to the directory where augmented videos will be saved.\n",
        "    - desired_num_videos (int): Total number of augmented videos desired.\n",
        "\n",
        "    Returns:\n",
        "    - None\n",
        "    \"\"\"\n",
        "\n",
        "    # Create the output directory if it doesn't exist\n",
        "    os.makedirs(output_directory, exist_ok=True)\n",
        "\n",
        "    # Define augmentation pipeline\n",
        "    seq = iaa.Sequential([\n",
        "        iaa.Sometimes(0.5, iaa.Sequential([\n",
        "            iaa.Cutout(nb_iterations=(1, 3), size=(0.1, 0.2), squared=False),  # randomly cut frames from the beginning or end\n",
        "        ])),\n",
        "        iaa.Fliplr(0.5),  # horizontally flip 50% of the videos\n",
        "        iaa.Rotate((-10, 10)),  # rotate videos by -10 to 10 degrees\n",
        "        iaa.GaussianBlur(sigma=(0, 1.0)),  # apply Gaussian blur\n",
        "        iaa.AdditiveGaussianNoise(scale=(0, 0.1 * 255))  # add Gaussian noise\n",
        "    ], random_order=True)\n",
        "\n",
        "    # Iterate over the input videos and perform augmentation\n",
        "    video_files = os.listdir(input_directory)\n",
        "    num_augmented_videos = 0\n",
        "    while num_augmented_videos < desired_num_videos:\n",
        "        # Choose a random video file\n",
        "        video_file = random.choice(video_files)\n",
        "        video_path = os.path.join(input_directory, video_file)\n",
        "\n",
        "        # Read the video\n",
        "        video_capture = cv2.VideoCapture(video_path)\n",
        "        frames = []\n",
        "        while True:\n",
        "            ret, frame = video_capture.read()\n",
        "            if not ret:\n",
        "                break\n",
        "            frames.append(frame)\n",
        "        video_capture.release()\n",
        "\n",
        "        # Apply augmentation to frames\n",
        "        augmented_frames = seq.augment_images(frames)\n",
        "\n",
        "        # Save augmented frames as a new video\n",
        "        output_video_path = os.path.join(output_directory, f\"augmented_video_{num_augmented_videos}.avi\")\n",
        "        height, width, _ = augmented_frames[0].shape\n",
        "        fourcc = cv2.VideoWriter_fourcc(*\"XVID\")  # Use appropriate codec for AVI format\n",
        "        out = cv2.VideoWriter(output_video_path, fourcc, 30, (width, height))\n",
        "        for frame in augmented_frames:\n",
        "            out.write(frame)\n",
        "        out.release()\n",
        "\n",
        "        num_augmented_videos += 1\n",
        "\n",
        "    print(\"Augmentation completed.\")"
      ],
      "metadata": {
        "id": "Szo2Q5B0PGSt"
      },
      "execution_count": null,
      "outputs": []
    },
    {
      "cell_type": "code",
      "source": [
        "def move_rename_directories(old_directory, new_directory):\n",
        "    \"\"\"\n",
        "    Move the contents of the old directory to the new directory,\n",
        "    delete the old directory, and rename the new directory.\n",
        "\n",
        "    Args:\n",
        "    - old_directory (str): Path to the old directory.\n",
        "    - new_directory (str): Path to the new directory.\n",
        "\n",
        "    Returns:\n",
        "    - None\n",
        "    \"\"\"\n",
        "\n",
        "    # Move the contents of the old directory to the new directory\n",
        "    for item in os.listdir(old_directory):\n",
        "        source = os.path.join(old_directory, item)\n",
        "        destination = os.path.join(new_directory, item)\n",
        "        shutil.move(source, destination)\n",
        "\n",
        "    # Delete the old directory\n",
        "    shutil.rmtree(old_directory)\n",
        "\n",
        "    # Rename the new directory to match the old directory name\n",
        "    os.rename(new_directory, old_directory)\n",
        "\n",
        "    print(\"Directories moved, deleted, and renamed successfully.\")"
      ],
      "metadata": {
        "id": "zgJk3bvLQDW1"
      },
      "execution_count": null,
      "outputs": []
    },
    {
      "cell_type": "markdown",
      "source": [
        "**DEFENCE:**<br>\n",
        "Final 'defence' folder should contain 140 videos."
      ],
      "metadata": {
        "id": "Pvda-WkJMG_L"
      }
    },
    {
      "cell_type": "code",
      "source": [
        "# Example usage:\n",
        "input_directory = \"/content/drive/My Drive/csvs/handball_test/cleaned_actions/defence\"\n",
        "output_directory = \"/content/drive/My Drive/csvs/handball_test/cleaned_actions/defence_aug\"\n",
        "desired_num_videos = 105\n",
        "\n",
        "augment_videos(input_directory, output_directory, desired_num_videos)\n"
      ],
      "metadata": {
        "colab": {
          "base_uri": "https://localhost:8080/"
        },
        "id": "nDngWxD_PH7e",
        "outputId": "2a1f523d-a75f-4357-cfb7-bc2aeb9009c6"
      },
      "execution_count": null,
      "outputs": [
        {
          "output_type": "stream",
          "name": "stdout",
          "text": [
            "Augmentation completed.\n"
          ]
        }
      ]
    },
    {
      "cell_type": "code",
      "source": [
        "# Example usage:\n",
        "old_directory = \"/content/drive/My Drive/csvs/handball_test/cleaned_actions/defence\"\n",
        "new_directory = \"/content/drive/My Drive/csvs/handball_test/cleaned_actions/defence_aug\"\n",
        "\n",
        "move_rename_directories(old_directory, new_directory)\n"
      ],
      "metadata": {
        "colab": {
          "base_uri": "https://localhost:8080/"
        },
        "id": "iKZqnbQAQLnW",
        "outputId": "9e1188dd-468e-431f-b52a-bc65034a81fd"
      },
      "execution_count": null,
      "outputs": [
        {
          "output_type": "stream",
          "name": "stdout",
          "text": [
            "Directories moved, deleted, and renamed successfully.\n"
          ]
        }
      ]
    },
    {
      "cell_type": "markdown",
      "source": [
        "**SHOT:**<br>\n",
        "Final 'shot' folder should contain 140 videos."
      ],
      "metadata": {
        "id": "BT_pa6U9SfpI"
      }
    },
    {
      "cell_type": "code",
      "source": [
        "# Example usage:\n",
        "input_directory = \"/content/drive/My Drive/csvs/handball_test/cleaned_actions/shot\"\n",
        "output_directory = \"/content/drive/My Drive/csvs/handball_test/cleaned_actions/shot_aug\"\n",
        "desired_num_videos = 45\n",
        "\n",
        "augment_videos(input_directory, output_directory, desired_num_videos)\n"
      ],
      "metadata": {
        "colab": {
          "base_uri": "https://localhost:8080/"
        },
        "outputId": "abc1f1ed-b30b-47cb-bb53-c32a298c5ff0",
        "id": "fdO5dSgAS5O4"
      },
      "execution_count": null,
      "outputs": [
        {
          "output_type": "stream",
          "name": "stdout",
          "text": [
            "Augmentation completed.\n"
          ]
        }
      ]
    },
    {
      "cell_type": "code",
      "source": [
        "# Example usage:\n",
        "old_directory = \"/content/drive/My Drive/csvs/handball_test/cleaned_actions/shot\"\n",
        "new_directory = \"/content/drive/My Drive/csvs/handball_test/cleaned_actions/shot_aug\"\n",
        "\n",
        "move_rename_directories(old_directory, new_directory)\n"
      ],
      "metadata": {
        "colab": {
          "base_uri": "https://localhost:8080/"
        },
        "outputId": "7b230aae-c698-44ca-c217-e51cbab872ce",
        "id": "-LTJ3RUPS5O6"
      },
      "execution_count": null,
      "outputs": [
        {
          "output_type": "stream",
          "name": "stdout",
          "text": [
            "Directories moved, deleted, and renamed successfully.\n"
          ]
        }
      ]
    },
    {
      "cell_type": "markdown",
      "source": [
        "### Down-sampling categories:"
      ],
      "metadata": {
        "id": "Qfm8hfVFayLL"
      }
    },
    {
      "cell_type": "code",
      "source": [
        "def keep_random_videos(directory, num_videos_to_keep):\n",
        "    \"\"\"\n",
        "    Keep a specified number of random videos in the directory and delete the rest.\n",
        "\n",
        "    Args:\n",
        "    - directory (str): Path to the directory containing the videos.\n",
        "    - num_videos_to_keep (int): Number of videos to keep.\n",
        "\n",
        "    Returns:\n",
        "    - None\n",
        "    \"\"\"\n",
        "\n",
        "    # Get the list of all video files in the directory\n",
        "    video_files = [f for f in os.listdir(directory) if f.endswith(\".avi\")]\n",
        "\n",
        "    # If the number of videos in the directory is less than or equal to the number to keep, do nothing\n",
        "    if len(video_files) <= num_videos_to_keep:\n",
        "        print(\"Number of videos in the directory is already less than or equal to the number to keep.\")\n",
        "        return\n",
        "\n",
        "    # Randomly select the videos to keep\n",
        "    videos_to_keep = random.sample(video_files, num_videos_to_keep)\n",
        "\n",
        "    # Delete the videos that are not selected to keep\n",
        "    for file in video_files:\n",
        "        if file not in videos_to_keep:\n",
        "            file_path = os.path.join(directory, file)\n",
        "            os.remove(file_path)\n",
        "\n",
        "    print(\"Random videos kept and others deleted successfully.\")"
      ],
      "metadata": {
        "id": "5Tu-MHQUbTD0"
      },
      "execution_count": null,
      "outputs": []
    },
    {
      "cell_type": "markdown",
      "source": [
        "**JUMP-SHOT:**<br>\n",
        "Final 'jump-shot' folder should contain 150 videos."
      ],
      "metadata": {
        "id": "z_6TKI4Zb0kE"
      }
    },
    {
      "cell_type": "code",
      "source": [
        "# Example usage:\n",
        "directory = \"/content/drive/My Drive/csvs/handball_test/cleaned_actions/jump-shot\"\n",
        "num_videos_to_keep = 150\n",
        "\n",
        "keep_random_videos(directory, num_videos_to_keep)\n"
      ],
      "metadata": {
        "colab": {
          "base_uri": "https://localhost:8080/"
        },
        "id": "zuqqLmZ5bpHl",
        "outputId": "b167b7d1-7a2e-474c-f5a0-a42e5f3035d1"
      },
      "execution_count": null,
      "outputs": [
        {
          "output_type": "stream",
          "name": "stdout",
          "text": [
            "Random videos kept and others deleted successfully.\n"
          ]
        }
      ]
    },
    {
      "cell_type": "markdown",
      "source": [
        "**CROSSING:**<br>\n",
        "Final 'crossing' folder should contain 150 videos."
      ],
      "metadata": {
        "id": "kNl7h9ngcATH"
      }
    },
    {
      "cell_type": "code",
      "source": [
        "# Example usage:\n",
        "directory = \"/content/drive/My Drive/csvs/handball_test/cleaned_actions/crossing\"\n",
        "num_videos_to_keep = 150\n",
        "\n",
        "keep_random_videos(directory, num_videos_to_keep)\n"
      ],
      "metadata": {
        "colab": {
          "base_uri": "https://localhost:8080/"
        },
        "outputId": "84b25b1d-d7f9-465b-c270-830a73fe826e",
        "id": "W1uUHhk8cATO"
      },
      "execution_count": null,
      "outputs": [
        {
          "output_type": "stream",
          "name": "stdout",
          "text": [
            "Random videos kept and others deleted successfully.\n"
          ]
        }
      ]
    },
    {
      "cell_type": "markdown",
      "source": [
        "### _Final dataset:_\n",
        "The size of the final dataset is 1,8 GB."
      ],
      "metadata": {
        "id": "TTSSmELccNSt"
      }
    },
    {
      "cell_type": "code",
      "source": [
        "# Define the directory path\n",
        "directory = \"/content/drive/My Drive/csvs/handball_test/cleaned_actions\"\n",
        "\n",
        "# Initialize an empty dictionary to store the count of videos for each action\n",
        "video_counts = {}\n",
        "\n",
        "# Iterate through each folder in the directory\n",
        "for action_folder in os.listdir(directory):\n",
        "    # Construct the full path to the action folder\n",
        "    action_folder_path = os.path.join(directory, action_folder)\n",
        "    # Check if the path is a directory\n",
        "    if os.path.isdir(action_folder_path):\n",
        "        # Count the number of files with a \".avi\" extension in the folder\n",
        "        num_videos = len([file for file in os.listdir(action_folder_path) if file.endswith(\".avi\")])\n",
        "        # Store the count in the dictionary with the action name as the key\n",
        "        video_counts[action_folder] = num_videos\n",
        "\n",
        "# Print the counts\n",
        "for action, count in video_counts.items():\n",
        "    print(f\"Action: {action}, Number of Videos: {count}\")"
      ],
      "metadata": {
        "colab": {
          "base_uri": "https://localhost:8080/"
        },
        "id": "JtjK62vXOgCK",
        "outputId": "7aac72ab-6fe5-4473-f945-7657e2e748f8"
      },
      "execution_count": null,
      "outputs": [
        {
          "output_type": "stream",
          "name": "stdout",
          "text": [
            "Action: jump-shot, Number of Videos: 150\n",
            "Action: passing, Number of Videos: 141\n",
            "Action: crossing, Number of Videos: 150\n",
            "Action: defence, Number of Videos: 140\n",
            "Action: shot, Number of Videos: 141\n"
          ]
        }
      ]
    },
    {
      "cell_type": "markdown",
      "source": [
        "## Dividing the dataset in training, validation and test set:"
      ],
      "metadata": {
        "id": "YDbiRcE5Bnfc"
      }
    },
    {
      "cell_type": "code",
      "source": [
        "# Define the paths to the dataset folders\n",
        "\n",
        "# Original dataset:\n",
        "#dataset_path = '/content/drive/My Drive/csvs/handball_s/actions'\n",
        "\n",
        "# Copy were the preprocessing steps are being conducted:\n",
        "dataset_path = '/content/drive/My Drive/csvs/handball_test/cleaned_actions'\n",
        "label_types = os.listdir(dataset_path)\n",
        "print(label_types)\n",
        "\n",
        "train_path = '/content/drive/My Drive/csvs/handball_test/train'\n",
        "test_path = '/content/drive/My Drive/csvs/handball_test/test'\n",
        "val_path = '/content/drive/My Drive/csvs/handball_test/val'"
      ],
      "metadata": {
        "id": "BfpnTjs9BXyH",
        "colab": {
          "base_uri": "https://localhost:8080/"
        },
        "outputId": "5311ba25-d0b6-40c6-82fa-bd8cb88ee365"
      },
      "execution_count": null,
      "outputs": [
        {
          "output_type": "stream",
          "name": "stdout",
          "text": [
            "['crossing', 'passing', 'jump-shot', 'defence', 'shot']\n"
          ]
        }
      ]
    },
    {
      "cell_type": "code",
      "source": [
        "# Define the actions\n",
        "# actions = ['shot', 'dribbling', 'jump-shot', 'passing', 'running', 'crossing', 'defence']\n",
        "actions = label_types\n",
        "\n",
        "# Define the split ratios (e.g., 65% training, 15% validation, 20% test)\n",
        "train_ratio = 0.7\n",
        "val_ratio = 0.1\n",
        "\n",
        "# Iterate over each action folder\n",
        "for action in actions:\n",
        "    action_path = os.path.join(dataset_path, action)\n",
        "\n",
        "    # List the videos in the action folder\n",
        "    videos = os.listdir(action_path)\n",
        "\n",
        "    # Shuffle the list of videos\n",
        "    random.shuffle(videos)\n",
        "\n",
        "    # Determine the number of videos for training, validation, and test\n",
        "    num_videos = len(videos)\n",
        "    num_train = int(num_videos * train_ratio)\n",
        "    num_val = int(num_videos * val_ratio)\n",
        "    num_test = num_videos - num_train - num_val\n",
        "    print(f\"for {action} -->\\n num train: {num_train}, num test: {num_test}, num val: {num_val}\")\n",
        "\n",
        "    # Create directories for the action in the train, validation, and test sets\n",
        "    train_action_path = os.path.join(train_path, action)\n",
        "    val_action_path = os.path.join(val_path, action)\n",
        "    test_action_path = os.path.join(test_path, action)\n",
        "    os.makedirs(train_action_path, exist_ok=True)\n",
        "    os.makedirs(val_action_path, exist_ok=True)\n",
        "    os.makedirs(test_action_path, exist_ok=True)\n",
        "    # exist_ok=True --> the function will not raise an error if the directory\n",
        "    # already exists; it will simply continue\n",
        "\n",
        "    # Move videos to the train, validation, and test directories\n",
        "    train_videos = videos[:num_train]\n",
        "    val_videos = videos[num_train:(num_train + num_val)]\n",
        "    test_videos = videos[(num_train + num_val):]\n",
        "\n",
        "    for video in train_videos:\n",
        "        src = os.path.join(action_path, video)\n",
        "        dst = os.path.join(train_action_path, video)\n",
        "        shutil.copy(src, dst)\n",
        "\n",
        "    for video in val_videos:\n",
        "        src = os.path.join(action_path, video)\n",
        "        dst = os.path.join(val_action_path, video)\n",
        "        shutil.copy(src, dst)\n",
        "\n",
        "    for video in test_videos:\n",
        "        src = os.path.join(action_path, video)\n",
        "        dst = os.path.join(test_action_path, video)\n",
        "        shutil.copy(src, dst)\n"
      ],
      "metadata": {
        "id": "LnlYZ9OmBuZT",
        "colab": {
          "base_uri": "https://localhost:8080/"
        },
        "outputId": "574f98f5-ba22-4bbb-9227-a8e47d47ba32"
      },
      "execution_count": null,
      "outputs": [
        {
          "output_type": "stream",
          "name": "stdout",
          "text": [
            "for crossing -->\n",
            " num train: 105, num test: 30, num val: 15\n",
            "for passing -->\n",
            " num train: 98, num test: 29, num val: 14\n",
            "for jump-shot -->\n",
            " num train: 105, num test: 30, num val: 15\n",
            "for defence -->\n",
            " num train: 98, num test: 28, num val: 14\n",
            "for shot -->\n",
            " num train: 98, num test: 29, num val: 14\n"
          ]
        }
      ]
    },
    {
      "cell_type": "code",
      "source": [
        "os.listdir('/content/drive/My Drive/csvs/handball_test/val/crossing')"
      ],
      "metadata": {
        "colab": {
          "base_uri": "https://localhost:8080/"
        },
        "id": "I-FfVRZTdka9",
        "outputId": "1d22fe3b-c868-41c2-98a2-f23f258fc23b"
      },
      "execution_count": null,
      "outputs": [
        {
          "output_type": "execute_result",
          "data": {
            "text/plain": [
              "['crossing_KS_33_act2.avi',\n",
              " 'crossing_KS_125_act1.avi',\n",
              " 'crossing_KS_91_act1.avi',\n",
              " 'crossing_KS_116_act2.avi',\n",
              " 'crossing_KS_7_act1.avi',\n",
              " 'crossing_KS_27_act2.avi',\n",
              " 'crossing_KS_13_act2.avi',\n",
              " 'crossing_KS_18_act1.avi',\n",
              " 'crossing_KS_95_act2.avi',\n",
              " 'crossing_KS_21_act2.avi',\n",
              " 'crossing_KS_103_act1.avi',\n",
              " 'crossing_KS_31_act2.avi',\n",
              " 'crossing_KS_119_act1.avi',\n",
              " 'crossing_KS_83_act2.avi',\n",
              " 'crossing_KS_115_act1.avi']"
            ]
          },
          "metadata": {},
          "execution_count": 78
        }
      ]
    },
    {
      "cell_type": "markdown",
      "source": [
        "## Preparing dataframes for each subset:\n",
        "Each dataframe contains the name of the videos belonging to each set, ant their corresponding tag action. They will be used for the \"CNN+Sequential\" model."
      ],
      "metadata": {
        "id": "ZI6YdYvlEIVC"
      }
    },
    {
      "cell_type": "code",
      "source": [
        "def create_dataframe_from_subset(subset_path):\n",
        "    info_videos = []\n",
        "\n",
        "    for action in os.listdir(subset_path):\n",
        "        # Get all the videos in this action:\n",
        "        action_path = os.path.join(subset_path, action)\n",
        "        all_videos = os.listdir(action_path)\n",
        "\n",
        "        # Add the videos to the list:\n",
        "        for video in all_videos:\n",
        "            video_path = os.path.join(action_path, video)\n",
        "            info_videos.append((action, video_path))\n",
        "\n",
        "    # Build DataFrame:\n",
        "    df = pd.DataFrame(data=info_videos, columns=['tag', 'video_name'])\n",
        "    return df"
      ],
      "metadata": {
        "id": "AcrTEZ4vELlD"
      },
      "execution_count": null,
      "outputs": []
    },
    {
      "cell_type": "markdown",
      "source": [
        "### Preparing the training data:"
      ],
      "metadata": {
        "id": "A_dgu-IB_tVY"
      }
    },
    {
      "cell_type": "code",
      "source": [
        "train_df = create_dataframe_from_subset(train_path)\n",
        "print(train_df.head())\n",
        "print(train_df.shape)\n",
        "print(train_df.tail())"
      ],
      "metadata": {
        "colab": {
          "base_uri": "https://localhost:8080/"
        },
        "id": "Z4l6a2Tp_2uy",
        "outputId": "e9dbd4b8-c88c-4b09-92a2-ff90eccbe1c4"
      },
      "execution_count": null,
      "outputs": [
        {
          "output_type": "stream",
          "name": "stdout",
          "text": [
            "        tag                                         video_name\n",
            "0  crossing  /content/drive/My Drive/csvs/handball_test/tra...\n",
            "1  crossing  /content/drive/My Drive/csvs/handball_test/tra...\n",
            "2  crossing  /content/drive/My Drive/csvs/handball_test/tra...\n",
            "3  crossing  /content/drive/My Drive/csvs/handball_test/tra...\n",
            "4  crossing  /content/drive/My Drive/csvs/handball_test/tra...\n",
            "(504, 2)\n",
            "         tag                                         video_name\n",
            "499  passing  /content/drive/My Drive/csvs/handball_test/tra...\n",
            "500  passing  /content/drive/My Drive/csvs/handball_test/tra...\n",
            "501  passing  /content/drive/My Drive/csvs/handball_test/tra...\n",
            "502  passing  /content/drive/My Drive/csvs/handball_test/tra...\n",
            "503  passing  /content/drive/My Drive/csvs/handball_test/tra...\n"
          ]
        }
      ]
    },
    {
      "cell_type": "markdown",
      "source": [
        "### Preparing the validation data:"
      ],
      "metadata": {
        "id": "Dzdv6mn8DbgD"
      }
    },
    {
      "cell_type": "code",
      "source": [
        "val_df = create_dataframe_from_subset(val_path)\n",
        "print(val_df.head())\n",
        "print(val_df.shape)\n",
        "print(val_df.tail())"
      ],
      "metadata": {
        "colab": {
          "base_uri": "https://localhost:8080/"
        },
        "outputId": "1acb7656-b732-4c92-b76f-0d1a9edd2aa6",
        "id": "vQCoN39DDZmg"
      },
      "execution_count": null,
      "outputs": [
        {
          "output_type": "stream",
          "name": "stdout",
          "text": [
            "         tag                                         video_name\n",
            "0  jump-shot  /content/drive/My Drive/csvs/handball_test/val...\n",
            "1  jump-shot  /content/drive/My Drive/csvs/handball_test/val...\n",
            "2  jump-shot  /content/drive/My Drive/csvs/handball_test/val...\n",
            "3  jump-shot  /content/drive/My Drive/csvs/handball_test/val...\n",
            "4  jump-shot  /content/drive/My Drive/csvs/handball_test/val...\n",
            "(72, 2)\n",
            "        tag                                         video_name\n",
            "67  defence  /content/drive/My Drive/csvs/handball_test/val...\n",
            "68  defence  /content/drive/My Drive/csvs/handball_test/val...\n",
            "69  defence  /content/drive/My Drive/csvs/handball_test/val...\n",
            "70  defence  /content/drive/My Drive/csvs/handball_test/val...\n",
            "71  defence  /content/drive/My Drive/csvs/handball_test/val...\n"
          ]
        }
      ]
    },
    {
      "cell_type": "markdown",
      "source": [
        "### Preparing the test data:"
      ],
      "metadata": {
        "id": "irWXIhJPFez_"
      }
    },
    {
      "cell_type": "code",
      "source": [
        "test_df = create_dataframe_from_subset(test_path)\n",
        "print(test_df.head())\n",
        "print(test_df.shape)\n",
        "print(test_df.tail())"
      ],
      "metadata": {
        "colab": {
          "base_uri": "https://localhost:8080/"
        },
        "id": "GEO_JikOFZXh",
        "outputId": "e5ec9289-6155-41b4-e6e3-57980c597ccf"
      },
      "execution_count": null,
      "outputs": [
        {
          "output_type": "stream",
          "name": "stdout",
          "text": [
            "    tag                                         video_name\n",
            "0  shot  /content/drive/My Drive/csvs/handball_test/tes...\n",
            "1  shot  /content/drive/My Drive/csvs/handball_test/tes...\n",
            "2  shot  /content/drive/My Drive/csvs/handball_test/tes...\n",
            "3  shot  /content/drive/My Drive/csvs/handball_test/tes...\n",
            "4  shot  /content/drive/My Drive/csvs/handball_test/tes...\n",
            "(146, 2)\n",
            "          tag                                         video_name\n",
            "141  crossing  /content/drive/My Drive/csvs/handball_test/tes...\n",
            "142  crossing  /content/drive/My Drive/csvs/handball_test/tes...\n",
            "143  crossing  /content/drive/My Drive/csvs/handball_test/tes...\n",
            "144  crossing  /content/drive/My Drive/csvs/handball_test/tes...\n",
            "145  crossing  /content/drive/My Drive/csvs/handball_test/tes...\n"
          ]
        }
      ]
    },
    {
      "cell_type": "markdown",
      "source": [
        "### _Save each dataframe in a '.csv'_"
      ],
      "metadata": {
        "id": "ho-KixkVHeXV"
      }
    },
    {
      "cell_type": "code",
      "source": [
        "# Save DataFrames to CSV files\n",
        "data_path = '/content/drive/My Drive/csvs/handball_test/'\n",
        "train_df.to_csv(os.path.join(data_path, 'train.csv'), index=False)\n",
        "test_df.to_csv(os.path.join(data_path, 'test.csv'), index=False)\n",
        "val_df.to_csv(os.path.join(data_path, 'val.csv'), index=False)"
      ],
      "metadata": {
        "id": "8m4OMPftHcsl"
      },
      "execution_count": null,
      "outputs": []
    },
    {
      "cell_type": "code",
      "source": [
        "val_df.head()"
      ],
      "metadata": {
        "colab": {
          "base_uri": "https://localhost:8080/",
          "height": 206
        },
        "id": "O0UKdv81grHr",
        "outputId": "9118189d-e1e9-45b4-cfe2-a2ba2edf7c5d"
      },
      "execution_count": null,
      "outputs": [
        {
          "output_type": "execute_result",
          "data": {
            "text/plain": [
              "         tag                                         video_name\n",
              "0  jump-shot  /content/drive/My Drive/csvs/handball_test/val...\n",
              "1  jump-shot  /content/drive/My Drive/csvs/handball_test/val...\n",
              "2  jump-shot  /content/drive/My Drive/csvs/handball_test/val...\n",
              "3  jump-shot  /content/drive/My Drive/csvs/handball_test/val...\n",
              "4  jump-shot  /content/drive/My Drive/csvs/handball_test/val..."
            ],
            "text/html": [
              "\n",
              "  <div id=\"df-0e60d230-90d0-46d2-b3dd-732ed4374080\" class=\"colab-df-container\">\n",
              "    <div>\n",
              "<style scoped>\n",
              "    .dataframe tbody tr th:only-of-type {\n",
              "        vertical-align: middle;\n",
              "    }\n",
              "\n",
              "    .dataframe tbody tr th {\n",
              "        vertical-align: top;\n",
              "    }\n",
              "\n",
              "    .dataframe thead th {\n",
              "        text-align: right;\n",
              "    }\n",
              "</style>\n",
              "<table border=\"1\" class=\"dataframe\">\n",
              "  <thead>\n",
              "    <tr style=\"text-align: right;\">\n",
              "      <th></th>\n",
              "      <th>tag</th>\n",
              "      <th>video_name</th>\n",
              "    </tr>\n",
              "  </thead>\n",
              "  <tbody>\n",
              "    <tr>\n",
              "      <th>0</th>\n",
              "      <td>jump-shot</td>\n",
              "      <td>/content/drive/My Drive/csvs/handball_test/val...</td>\n",
              "    </tr>\n",
              "    <tr>\n",
              "      <th>1</th>\n",
              "      <td>jump-shot</td>\n",
              "      <td>/content/drive/My Drive/csvs/handball_test/val...</td>\n",
              "    </tr>\n",
              "    <tr>\n",
              "      <th>2</th>\n",
              "      <td>jump-shot</td>\n",
              "      <td>/content/drive/My Drive/csvs/handball_test/val...</td>\n",
              "    </tr>\n",
              "    <tr>\n",
              "      <th>3</th>\n",
              "      <td>jump-shot</td>\n",
              "      <td>/content/drive/My Drive/csvs/handball_test/val...</td>\n",
              "    </tr>\n",
              "    <tr>\n",
              "      <th>4</th>\n",
              "      <td>jump-shot</td>\n",
              "      <td>/content/drive/My Drive/csvs/handball_test/val...</td>\n",
              "    </tr>\n",
              "  </tbody>\n",
              "</table>\n",
              "</div>\n",
              "    <div class=\"colab-df-buttons\">\n",
              "\n",
              "  <div class=\"colab-df-container\">\n",
              "    <button class=\"colab-df-convert\" onclick=\"convertToInteractive('df-0e60d230-90d0-46d2-b3dd-732ed4374080')\"\n",
              "            title=\"Convert this dataframe to an interactive table.\"\n",
              "            style=\"display:none;\">\n",
              "\n",
              "  <svg xmlns=\"http://www.w3.org/2000/svg\" height=\"24px\" viewBox=\"0 -960 960 960\">\n",
              "    <path d=\"M120-120v-720h720v720H120Zm60-500h600v-160H180v160Zm220 220h160v-160H400v160Zm0 220h160v-160H400v160ZM180-400h160v-160H180v160Zm440 0h160v-160H620v160ZM180-180h160v-160H180v160Zm440 0h160v-160H620v160Z\"/>\n",
              "  </svg>\n",
              "    </button>\n",
              "\n",
              "  <style>\n",
              "    .colab-df-container {\n",
              "      display:flex;\n",
              "      gap: 12px;\n",
              "    }\n",
              "\n",
              "    .colab-df-convert {\n",
              "      background-color: #E8F0FE;\n",
              "      border: none;\n",
              "      border-radius: 50%;\n",
              "      cursor: pointer;\n",
              "      display: none;\n",
              "      fill: #1967D2;\n",
              "      height: 32px;\n",
              "      padding: 0 0 0 0;\n",
              "      width: 32px;\n",
              "    }\n",
              "\n",
              "    .colab-df-convert:hover {\n",
              "      background-color: #E2EBFA;\n",
              "      box-shadow: 0px 1px 2px rgba(60, 64, 67, 0.3), 0px 1px 3px 1px rgba(60, 64, 67, 0.15);\n",
              "      fill: #174EA6;\n",
              "    }\n",
              "\n",
              "    .colab-df-buttons div {\n",
              "      margin-bottom: 4px;\n",
              "    }\n",
              "\n",
              "    [theme=dark] .colab-df-convert {\n",
              "      background-color: #3B4455;\n",
              "      fill: #D2E3FC;\n",
              "    }\n",
              "\n",
              "    [theme=dark] .colab-df-convert:hover {\n",
              "      background-color: #434B5C;\n",
              "      box-shadow: 0px 1px 3px 1px rgba(0, 0, 0, 0.15);\n",
              "      filter: drop-shadow(0px 1px 2px rgba(0, 0, 0, 0.3));\n",
              "      fill: #FFFFFF;\n",
              "    }\n",
              "  </style>\n",
              "\n",
              "    <script>\n",
              "      const buttonEl =\n",
              "        document.querySelector('#df-0e60d230-90d0-46d2-b3dd-732ed4374080 button.colab-df-convert');\n",
              "      buttonEl.style.display =\n",
              "        google.colab.kernel.accessAllowed ? 'block' : 'none';\n",
              "\n",
              "      async function convertToInteractive(key) {\n",
              "        const element = document.querySelector('#df-0e60d230-90d0-46d2-b3dd-732ed4374080');\n",
              "        const dataTable =\n",
              "          await google.colab.kernel.invokeFunction('convertToInteractive',\n",
              "                                                    [key], {});\n",
              "        if (!dataTable) return;\n",
              "\n",
              "        const docLinkHtml = 'Like what you see? Visit the ' +\n",
              "          '<a target=\"_blank\" href=https://colab.research.google.com/notebooks/data_table.ipynb>data table notebook</a>'\n",
              "          + ' to learn more about interactive tables.';\n",
              "        element.innerHTML = '';\n",
              "        dataTable['output_type'] = 'display_data';\n",
              "        await google.colab.output.renderOutput(dataTable, element);\n",
              "        const docLink = document.createElement('div');\n",
              "        docLink.innerHTML = docLinkHtml;\n",
              "        element.appendChild(docLink);\n",
              "      }\n",
              "    </script>\n",
              "  </div>\n",
              "\n",
              "\n",
              "<div id=\"df-b0c689e1-946c-4e27-9c76-bb159d47d402\">\n",
              "  <button class=\"colab-df-quickchart\" onclick=\"quickchart('df-b0c689e1-946c-4e27-9c76-bb159d47d402')\"\n",
              "            title=\"Suggest charts\"\n",
              "            style=\"display:none;\">\n",
              "\n",
              "<svg xmlns=\"http://www.w3.org/2000/svg\" height=\"24px\"viewBox=\"0 0 24 24\"\n",
              "     width=\"24px\">\n",
              "    <g>\n",
              "        <path d=\"M19 3H5c-1.1 0-2 .9-2 2v14c0 1.1.9 2 2 2h14c1.1 0 2-.9 2-2V5c0-1.1-.9-2-2-2zM9 17H7v-7h2v7zm4 0h-2V7h2v10zm4 0h-2v-4h2v4z\"/>\n",
              "    </g>\n",
              "</svg>\n",
              "  </button>\n",
              "\n",
              "<style>\n",
              "  .colab-df-quickchart {\n",
              "      --bg-color: #E8F0FE;\n",
              "      --fill-color: #1967D2;\n",
              "      --hover-bg-color: #E2EBFA;\n",
              "      --hover-fill-color: #174EA6;\n",
              "      --disabled-fill-color: #AAA;\n",
              "      --disabled-bg-color: #DDD;\n",
              "  }\n",
              "\n",
              "  [theme=dark] .colab-df-quickchart {\n",
              "      --bg-color: #3B4455;\n",
              "      --fill-color: #D2E3FC;\n",
              "      --hover-bg-color: #434B5C;\n",
              "      --hover-fill-color: #FFFFFF;\n",
              "      --disabled-bg-color: #3B4455;\n",
              "      --disabled-fill-color: #666;\n",
              "  }\n",
              "\n",
              "  .colab-df-quickchart {\n",
              "    background-color: var(--bg-color);\n",
              "    border: none;\n",
              "    border-radius: 50%;\n",
              "    cursor: pointer;\n",
              "    display: none;\n",
              "    fill: var(--fill-color);\n",
              "    height: 32px;\n",
              "    padding: 0;\n",
              "    width: 32px;\n",
              "  }\n",
              "\n",
              "  .colab-df-quickchart:hover {\n",
              "    background-color: var(--hover-bg-color);\n",
              "    box-shadow: 0 1px 2px rgba(60, 64, 67, 0.3), 0 1px 3px 1px rgba(60, 64, 67, 0.15);\n",
              "    fill: var(--button-hover-fill-color);\n",
              "  }\n",
              "\n",
              "  .colab-df-quickchart-complete:disabled,\n",
              "  .colab-df-quickchart-complete:disabled:hover {\n",
              "    background-color: var(--disabled-bg-color);\n",
              "    fill: var(--disabled-fill-color);\n",
              "    box-shadow: none;\n",
              "  }\n",
              "\n",
              "  .colab-df-spinner {\n",
              "    border: 2px solid var(--fill-color);\n",
              "    border-color: transparent;\n",
              "    border-bottom-color: var(--fill-color);\n",
              "    animation:\n",
              "      spin 1s steps(1) infinite;\n",
              "  }\n",
              "\n",
              "  @keyframes spin {\n",
              "    0% {\n",
              "      border-color: transparent;\n",
              "      border-bottom-color: var(--fill-color);\n",
              "      border-left-color: var(--fill-color);\n",
              "    }\n",
              "    20% {\n",
              "      border-color: transparent;\n",
              "      border-left-color: var(--fill-color);\n",
              "      border-top-color: var(--fill-color);\n",
              "    }\n",
              "    30% {\n",
              "      border-color: transparent;\n",
              "      border-left-color: var(--fill-color);\n",
              "      border-top-color: var(--fill-color);\n",
              "      border-right-color: var(--fill-color);\n",
              "    }\n",
              "    40% {\n",
              "      border-color: transparent;\n",
              "      border-right-color: var(--fill-color);\n",
              "      border-top-color: var(--fill-color);\n",
              "    }\n",
              "    60% {\n",
              "      border-color: transparent;\n",
              "      border-right-color: var(--fill-color);\n",
              "    }\n",
              "    80% {\n",
              "      border-color: transparent;\n",
              "      border-right-color: var(--fill-color);\n",
              "      border-bottom-color: var(--fill-color);\n",
              "    }\n",
              "    90% {\n",
              "      border-color: transparent;\n",
              "      border-bottom-color: var(--fill-color);\n",
              "    }\n",
              "  }\n",
              "</style>\n",
              "\n",
              "  <script>\n",
              "    async function quickchart(key) {\n",
              "      const quickchartButtonEl =\n",
              "        document.querySelector('#' + key + ' button');\n",
              "      quickchartButtonEl.disabled = true;  // To prevent multiple clicks.\n",
              "      quickchartButtonEl.classList.add('colab-df-spinner');\n",
              "      try {\n",
              "        const charts = await google.colab.kernel.invokeFunction(\n",
              "            'suggestCharts', [key], {});\n",
              "      } catch (error) {\n",
              "        console.error('Error during call to suggestCharts:', error);\n",
              "      }\n",
              "      quickchartButtonEl.classList.remove('colab-df-spinner');\n",
              "      quickchartButtonEl.classList.add('colab-df-quickchart-complete');\n",
              "    }\n",
              "    (() => {\n",
              "      let quickchartButtonEl =\n",
              "        document.querySelector('#df-b0c689e1-946c-4e27-9c76-bb159d47d402 button');\n",
              "      quickchartButtonEl.style.display =\n",
              "        google.colab.kernel.accessAllowed ? 'block' : 'none';\n",
              "    })();\n",
              "  </script>\n",
              "</div>\n",
              "    </div>\n",
              "  </div>\n"
            ],
            "application/vnd.google.colaboratory.intrinsic+json": {
              "type": "dataframe",
              "variable_name": "val_df",
              "summary": "{\n  \"name\": \"val_df\",\n  \"rows\": 72,\n  \"fields\": [\n    {\n      \"column\": \"tag\",\n      \"properties\": {\n        \"dtype\": \"category\",\n        \"num_unique_values\": 5,\n        \"samples\": [\n          \"crossing\",\n          \"defence\",\n          \"passing\"\n        ],\n        \"semantic_type\": \"\",\n        \"description\": \"\"\n      }\n    },\n    {\n      \"column\": \"video_name\",\n      \"properties\": {\n        \"dtype\": \"string\",\n        \"num_unique_values\": 72,\n        \"samples\": [\n          \"/content/drive/My Drive/csvs/handball_test/val/jump-shot/jump-shot_KS_227_act1.avi\",\n          \"/content/drive/My Drive/csvs/handball_test/val/defence/defence_KS_16_act3.avi\",\n          \"/content/drive/My Drive/csvs/handball_test/val/crossing/crossing_KS_116_act2.avi\"\n        ],\n        \"semantic_type\": \"\",\n        \"description\": \"\"\n      }\n    }\n  ]\n}"
            }
          },
          "metadata": {},
          "execution_count": 84
        }
      ]
    }
  ]
}